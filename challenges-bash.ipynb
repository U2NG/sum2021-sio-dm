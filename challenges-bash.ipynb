{
 "cells": [
  {
   "cell_type": "markdown",
   "metadata": {},
   "source": [
    "1. A file called `animals.txt` contains the following data:"
   ]
  },
  {
   "cell_type": "code",
   "execution_count": 1,
   "metadata": {
    "collapsed": false
   },
   "outputs": [
    {
     "name": "stdout",
     "output_type": "stream",
     "text": [
      "2012-11-05,deer\r\n",
      "2012-11-05,rabbit\r\n",
      "2012-11-05,raccoon\r\n",
      "2012-11-06,rabbit\r\n",
      "2012-11-06,deer\r\n",
      "2012-11-06,fox\r\n",
      "2012-11-07,rabbit\r\n",
      "2012-11-07,bear"
     ]
    }
   ],
   "source": [
    "cat animals.txt"
   ]
  },
  {
   "cell_type": "markdown",
   "metadata": {},
   "source": [
    "What text passes through each of the pipes and the final redirect in the pipeline below?\n",
    "\n",
    "`cat animals.txt | head -5 | tail -3 | sort -r > final.txt`"
   ]
  }
 ],
 "metadata": {
  "kernelspec": {
   "display_name": "Bash",
   "language": "bash",
   "name": "bash"
  },
  "language_info": {
   "codemirror_mode": "shell",
   "file_extension": ".sh",
   "mimetype": "text/x-sh",
   "name": "bash"
  }
 },
 "nbformat": 4,
 "nbformat_minor": 0
}
